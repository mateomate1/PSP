{
 "cells": [
  {
   "attachments": {},
   "cell_type": "markdown",
   "metadata": {},
   "source": [
    "\n",
    "# Librería Pandas\n",
    "\n",
    "Construida sobre Numpy ofrece mecanismos para gestión sencilla de datos en formato tabular.\n",
    "\n"
   ]
  },
  {
   "cell_type": "code",
   "execution_count": 15,
   "metadata": {},
   "outputs": [],
   "source": [
    "import pandas as pd"
   ]
  },
  {
   "attachments": {},
   "cell_type": "markdown",
   "metadata": {},
   "source": [
    "Elementos principales:\n",
    "- Serie\n",
    "- Dataframe\n",
    "\n",
    "Pueden crearse a partir de arrays, estructuras json/dict o directamente leyendo de un fichero\n",
    "\n",
    "## Series"
   ]
  },
  {
   "cell_type": "code",
   "execution_count": 16,
   "metadata": {},
   "outputs": [
    {
     "name": "stdout",
     "output_type": "stream",
     "text": [
      "A     1\n",
      "B    24\n",
      "C     5\n",
      "D     6\n",
      "dtype: int64\n",
      "[ 1 24  5  6]\n",
      "Index(['A', 'B', 'C', 'D'], dtype='object')\n"
     ]
    },
    {
     "data": {
      "text/plain": [
       "np.int64(1)"
      ]
     },
     "execution_count": 16,
     "metadata": {},
     "output_type": "execute_result"
    }
   ],
   "source": [
    "s = pd.Series([1,24,5,6], index=['A', 'B', 'C', 'D'])\n",
    "\n",
    "print(s)\n",
    "print(s.values)\n",
    "print(s.index)\n",
    "s['A']"
   ]
  },
  {
   "attachments": {},
   "cell_type": "markdown",
   "metadata": {},
   "source": [
    "## Dataframes"
   ]
  },
  {
   "cell_type": "code",
   "execution_count": 17,
   "metadata": {},
   "outputs": [
    {
     "data": {
      "text/html": [
       "<div>\n",
       "<style scoped>\n",
       "    .dataframe tbody tr th:only-of-type {\n",
       "        vertical-align: middle;\n",
       "    }\n",
       "\n",
       "    .dataframe tbody tr th {\n",
       "        vertical-align: top;\n",
       "    }\n",
       "\n",
       "    .dataframe thead th {\n",
       "        text-align: right;\n",
       "    }\n",
       "</style>\n",
       "<table border=\"1\" class=\"dataframe\">\n",
       "  <thead>\n",
       "    <tr style=\"text-align: right;\">\n",
       "      <th></th>\n",
       "      <th>Pais</th>\n",
       "      <th>Capital</th>\n",
       "      <th>Poblacion</th>\n",
       "    </tr>\n",
       "  </thead>\n",
       "  <tbody>\n",
       "    <tr>\n",
       "      <th>0</th>\n",
       "      <td>España</td>\n",
       "      <td>Madrid</td>\n",
       "      <td>47</td>\n",
       "    </tr>\n",
       "    <tr>\n",
       "      <th>1</th>\n",
       "      <td>Portugal</td>\n",
       "      <td>Lisboa</td>\n",
       "      <td>10</td>\n",
       "    </tr>\n",
       "    <tr>\n",
       "      <th>2</th>\n",
       "      <td>Francia</td>\n",
       "      <td>Paris</td>\n",
       "      <td>68</td>\n",
       "    </tr>\n",
       "    <tr>\n",
       "      <th>3</th>\n",
       "      <td>Alemania</td>\n",
       "      <td>Berlin</td>\n",
       "      <td>80</td>\n",
       "    </tr>\n",
       "  </tbody>\n",
       "</table>\n",
       "</div>"
      ],
      "text/plain": [
       "       Pais Capital  Poblacion\n",
       "0    España  Madrid         47\n",
       "1  Portugal  Lisboa         10\n",
       "2   Francia   Paris         68\n",
       "3  Alemania  Berlin         80"
      ]
     },
     "execution_count": 17,
     "metadata": {},
     "output_type": "execute_result"
    }
   ],
   "source": [
    "datos = [['España', 'Madrid', 47 ],\n",
    "         ['Portugal', 'Lisboa', 10],\n",
    "         ['Francia', 'Paris', 68],\n",
    "         ['Alemania', 'Berlin', 80]]\n",
    "df1 = pd.DataFrame(datos, columns=['Pais', 'Capital', 'Poblacion'])\n",
    "\n",
    "df1"
   ]
  },
  {
   "cell_type": "code",
   "execution_count": 18,
   "metadata": {},
   "outputs": [
    {
     "data": {
      "text/html": [
       "<div>\n",
       "<style scoped>\n",
       "    .dataframe tbody tr th:only-of-type {\n",
       "        vertical-align: middle;\n",
       "    }\n",
       "\n",
       "    .dataframe tbody tr th {\n",
       "        vertical-align: top;\n",
       "    }\n",
       "\n",
       "    .dataframe thead th {\n",
       "        text-align: right;\n",
       "    }\n",
       "</style>\n",
       "<table border=\"1\" class=\"dataframe\">\n",
       "  <thead>\n",
       "    <tr style=\"text-align: right;\">\n",
       "      <th></th>\n",
       "      <th>a</th>\n",
       "      <th>b</th>\n",
       "      <th>c</th>\n",
       "    </tr>\n",
       "  </thead>\n",
       "  <tbody>\n",
       "    <tr>\n",
       "      <th>0</th>\n",
       "      <td>0</td>\n",
       "      <td>0</td>\n",
       "      <td>-1</td>\n",
       "    </tr>\n",
       "    <tr>\n",
       "      <th>1</th>\n",
       "      <td>1</td>\n",
       "      <td>2</td>\n",
       "      <td>2</td>\n",
       "    </tr>\n",
       "    <tr>\n",
       "      <th>2</th>\n",
       "      <td>2</td>\n",
       "      <td>4</td>\n",
       "      <td>5</td>\n",
       "    </tr>\n",
       "    <tr>\n",
       "      <th>3</th>\n",
       "      <td>3</td>\n",
       "      <td>6</td>\n",
       "      <td>8</td>\n",
       "    </tr>\n",
       "  </tbody>\n",
       "</table>\n",
       "</div>"
      ],
      "text/plain": [
       "   a  b  c\n",
       "0  0  0 -1\n",
       "1  1  2  2\n",
       "2  2  4  5\n",
       "3  3  6  8"
      ]
     },
     "execution_count": 18,
     "metadata": {},
     "output_type": "execute_result"
    }
   ],
   "source": [
    "data = [{'a': i, 'b': 2 * i, 'c': 3*i-1} for i in range(4)]\n",
    "df2 = pd.DataFrame(data)\n",
    "\n",
    "df2"
   ]
  },
  {
   "cell_type": "code",
   "execution_count": 19,
   "metadata": {},
   "outputs": [
    {
     "data": {
      "text/html": [
       "<div>\n",
       "<style scoped>\n",
       "    .dataframe tbody tr th:only-of-type {\n",
       "        vertical-align: middle;\n",
       "    }\n",
       "\n",
       "    .dataframe tbody tr th {\n",
       "        vertical-align: top;\n",
       "    }\n",
       "\n",
       "    .dataframe thead th {\n",
       "        text-align: right;\n",
       "    }\n",
       "</style>\n",
       "<table border=\"1\" class=\"dataframe\">\n",
       "  <thead>\n",
       "    <tr style=\"text-align: right;\">\n",
       "      <th></th>\n",
       "      <th>CODAUTO</th>\n",
       "      <th>CPRO</th>\n",
       "      <th>CMUN</th>\n",
       "      <th>DC</th>\n",
       "      <th>NOMBRE</th>\n",
       "    </tr>\n",
       "  </thead>\n",
       "  <tbody>\n",
       "    <tr>\n",
       "      <th>0</th>\n",
       "      <td>16</td>\n",
       "      <td>1</td>\n",
       "      <td>51</td>\n",
       "      <td>3</td>\n",
       "      <td>Agurain/Salvatierra</td>\n",
       "    </tr>\n",
       "    <tr>\n",
       "      <th>1</th>\n",
       "      <td>16</td>\n",
       "      <td>1</td>\n",
       "      <td>1</td>\n",
       "      <td>4</td>\n",
       "      <td>Alegría-Dulantzi</td>\n",
       "    </tr>\n",
       "    <tr>\n",
       "      <th>2</th>\n",
       "      <td>16</td>\n",
       "      <td>1</td>\n",
       "      <td>2</td>\n",
       "      <td>9</td>\n",
       "      <td>Amurrio</td>\n",
       "    </tr>\n",
       "    <tr>\n",
       "      <th>3</th>\n",
       "      <td>16</td>\n",
       "      <td>1</td>\n",
       "      <td>49</td>\n",
       "      <td>3</td>\n",
       "      <td>Añana</td>\n",
       "    </tr>\n",
       "    <tr>\n",
       "      <th>4</th>\n",
       "      <td>16</td>\n",
       "      <td>1</td>\n",
       "      <td>3</td>\n",
       "      <td>5</td>\n",
       "      <td>Aramaio</td>\n",
       "    </tr>\n",
       "    <tr>\n",
       "      <th>...</th>\n",
       "      <td>...</td>\n",
       "      <td>...</td>\n",
       "      <td>...</td>\n",
       "      <td>...</td>\n",
       "      <td>...</td>\n",
       "    </tr>\n",
       "    <tr>\n",
       "      <th>8126</th>\n",
       "      <td>2</td>\n",
       "      <td>50</td>\n",
       "      <td>296</td>\n",
       "      <td>7</td>\n",
       "      <td>Zaida, La</td>\n",
       "    </tr>\n",
       "    <tr>\n",
       "      <th>8127</th>\n",
       "      <td>2</td>\n",
       "      <td>50</td>\n",
       "      <td>297</td>\n",
       "      <td>3</td>\n",
       "      <td>Zaragoza</td>\n",
       "    </tr>\n",
       "    <tr>\n",
       "      <th>8128</th>\n",
       "      <td>2</td>\n",
       "      <td>50</td>\n",
       "      <td>298</td>\n",
       "      <td>9</td>\n",
       "      <td>Zuera</td>\n",
       "    </tr>\n",
       "    <tr>\n",
       "      <th>8129</th>\n",
       "      <td>18</td>\n",
       "      <td>51</td>\n",
       "      <td>1</td>\n",
       "      <td>3</td>\n",
       "      <td>Ceuta</td>\n",
       "    </tr>\n",
       "    <tr>\n",
       "      <th>8130</th>\n",
       "      <td>19</td>\n",
       "      <td>52</td>\n",
       "      <td>1</td>\n",
       "      <td>8</td>\n",
       "      <td>Melilla</td>\n",
       "    </tr>\n",
       "  </tbody>\n",
       "</table>\n",
       "<p>8131 rows × 5 columns</p>\n",
       "</div>"
      ],
      "text/plain": [
       "      CODAUTO  CPRO  CMUN  DC               NOMBRE\n",
       "0          16     1    51   3  Agurain/Salvatierra\n",
       "1          16     1     1   4     Alegría-Dulantzi\n",
       "2          16     1     2   9              Amurrio\n",
       "3          16     1    49   3                Añana\n",
       "4          16     1     3   5              Aramaio\n",
       "...       ...   ...   ...  ..                  ...\n",
       "8126        2    50   296   7            Zaida, La\n",
       "8127        2    50   297   3             Zaragoza\n",
       "8128        2    50   298   9                Zuera\n",
       "8129       18    51     1   3                Ceuta\n",
       "8130       19    52     1   8              Melilla\n",
       "\n",
       "[8131 rows x 5 columns]"
      ]
     },
     "execution_count": 19,
     "metadata": {},
     "output_type": "execute_result"
    }
   ],
   "source": [
    "#dfCSV = pd.read_csv('20codmun.csv')     # pd.to_csv('file.csv') Escribe un df en formato CSV\n",
    "dfEx = pd.read_excel('20codmun.xlsx')   # pd.to_excel('file.xlsx') Escribe un df en formato Excel\n",
    "\n",
    "dfEx\n"
   ]
  },
  {
   "attachments": {},
   "cell_type": "markdown",
   "metadata": {},
   "source": [
    "### Acceso a elementos \n",
    "\n",
    "Podemos acceder a los elementos de dataframe mediante índices y mediante el nombre de la clave. Para ello usaremos las funciones loc e iloc"
   ]
  },
  {
   "cell_type": "code",
   "execution_count": 20,
   "metadata": {},
   "outputs": [
    {
     "name": "stdout",
     "output_type": "stream",
     "text": [
      "      CODAUTO  CPRO  CMUN  DC             NOMBRE\n",
      "3000        8    19   181   1  Miedes de Atienza\n",
      "3001        8    19   182   6         Mierla, La\n",
      "Villarejo-Periesteban\n"
     ]
    }
   ],
   "source": [
    "print(dfEx.iloc[3000:3002])\n",
    "print(dfEx.loc[2444, 'NOMBRE'])"
   ]
  },
  {
   "attachments": {},
   "cell_type": "markdown",
   "metadata": {},
   "source": [
    "### Slicing\n",
    "\n",
    "Podemos obtener subconjuntos del dataframe\n"
   ]
  },
  {
   "cell_type": "code",
   "execution_count": 21,
   "metadata": {},
   "outputs": [
    {
     "name": "stdout",
     "output_type": "stream",
     "text": [
      "4101                     Corera\n",
      "4102                    Cornago\n",
      "4103                 Corporales\n",
      "4104    Cuzcurrita de Río Tirón\n",
      "4105            Daroca de Rioja\n",
      "4106                     Enciso\n",
      "4107                    Entrena\n",
      "4108                    Estollo\n",
      "4109                    Ezcaray\n",
      "4110                     Foncea\n",
      "4111                 Fonzaleche\n",
      "4112                  Fuenmayor\n",
      "4113                 Galbárruli\n",
      "4114                    Galilea\n",
      "Name: NOMBRE, dtype: object\n"
     ]
    }
   ],
   "source": [
    "print(dfEx.loc[4101:4114, 'NOMBRE'])"
   ]
  },
  {
   "cell_type": "code",
   "execution_count": 22,
   "metadata": {},
   "outputs": [
    {
     "name": "stdout",
     "output_type": "stream",
     "text": [
      "      CODAUTO  CPRO  CMUN  DC     NOMBRE\n",
      "3100        8    19   288   4   Tortuero\n",
      "3101        8    19   289   7      Traíd\n",
      "3102        8    19   290   1  Trijueque\n",
      "3103        8    19   291   8     Trillo\n",
      "3104        8    19   293   9      Uceda\n"
     ]
    }
   ],
   "source": [
    "print(dfEx.loc[3100:3104])"
   ]
  },
  {
   "attachments": {},
   "cell_type": "markdown",
   "metadata": {},
   "source": [
    "### Filtrado condicional\n",
    "\n",
    "Incuyendo condiciones entre los corchetes"
   ]
  },
  {
   "cell_type": "code",
   "execution_count": 23,
   "metadata": {},
   "outputs": [
    {
     "data": {
      "text/html": [
       "<div>\n",
       "<style scoped>\n",
       "    .dataframe tbody tr th:only-of-type {\n",
       "        vertical-align: middle;\n",
       "    }\n",
       "\n",
       "    .dataframe tbody tr th {\n",
       "        vertical-align: top;\n",
       "    }\n",
       "\n",
       "    .dataframe thead th {\n",
       "        text-align: right;\n",
       "    }\n",
       "</style>\n",
       "<table border=\"1\" class=\"dataframe\">\n",
       "  <thead>\n",
       "    <tr style=\"text-align: right;\">\n",
       "      <th></th>\n",
       "      <th>CODAUTO</th>\n",
       "      <th>CPRO</th>\n",
       "      <th>CMUN</th>\n",
       "      <th>DC</th>\n",
       "      <th>NOMBRE</th>\n",
       "    </tr>\n",
       "  </thead>\n",
       "  <tbody>\n",
       "    <tr>\n",
       "      <th>3510</th>\n",
       "      <td>1</td>\n",
       "      <td>23</td>\n",
       "      <td>1</td>\n",
       "      <td>1</td>\n",
       "      <td>Albanchez de Mágina</td>\n",
       "    </tr>\n",
       "    <tr>\n",
       "      <th>3511</th>\n",
       "      <td>1</td>\n",
       "      <td>23</td>\n",
       "      <td>2</td>\n",
       "      <td>6</td>\n",
       "      <td>Alcalá la Real</td>\n",
       "    </tr>\n",
       "    <tr>\n",
       "      <th>3512</th>\n",
       "      <td>1</td>\n",
       "      <td>23</td>\n",
       "      <td>3</td>\n",
       "      <td>2</td>\n",
       "      <td>Alcaudete</td>\n",
       "    </tr>\n",
       "    <tr>\n",
       "      <th>3513</th>\n",
       "      <td>1</td>\n",
       "      <td>23</td>\n",
       "      <td>4</td>\n",
       "      <td>7</td>\n",
       "      <td>Aldeaquemada</td>\n",
       "    </tr>\n",
       "    <tr>\n",
       "      <th>3514</th>\n",
       "      <td>1</td>\n",
       "      <td>23</td>\n",
       "      <td>5</td>\n",
       "      <td>0</td>\n",
       "      <td>Andújar</td>\n",
       "    </tr>\n",
       "    <tr>\n",
       "      <th>...</th>\n",
       "      <td>...</td>\n",
       "      <td>...</td>\n",
       "      <td>...</td>\n",
       "      <td>...</td>\n",
       "      <td>...</td>\n",
       "    </tr>\n",
       "    <tr>\n",
       "      <th>3602</th>\n",
       "      <td>1</td>\n",
       "      <td>23</td>\n",
       "      <td>97</td>\n",
       "      <td>0</td>\n",
       "      <td>Villanueva del Arzobispo</td>\n",
       "    </tr>\n",
       "    <tr>\n",
       "      <th>3603</th>\n",
       "      <td>1</td>\n",
       "      <td>23</td>\n",
       "      <td>98</td>\n",
       "      <td>6</td>\n",
       "      <td>Villardompardo</td>\n",
       "    </tr>\n",
       "    <tr>\n",
       "      <th>3604</th>\n",
       "      <td>1</td>\n",
       "      <td>23</td>\n",
       "      <td>99</td>\n",
       "      <td>9</td>\n",
       "      <td>Villares, Los</td>\n",
       "    </tr>\n",
       "    <tr>\n",
       "      <th>3605</th>\n",
       "      <td>1</td>\n",
       "      <td>23</td>\n",
       "      <td>101</td>\n",
       "      <td>0</td>\n",
       "      <td>Villarrodrigo</td>\n",
       "    </tr>\n",
       "    <tr>\n",
       "      <th>3606</th>\n",
       "      <td>1</td>\n",
       "      <td>23</td>\n",
       "      <td>903</td>\n",
       "      <td>3</td>\n",
       "      <td>Villatorres</td>\n",
       "    </tr>\n",
       "  </tbody>\n",
       "</table>\n",
       "<p>97 rows × 5 columns</p>\n",
       "</div>"
      ],
      "text/plain": [
       "      CODAUTO  CPRO  CMUN  DC                    NOMBRE\n",
       "3510        1    23     1   1       Albanchez de Mágina\n",
       "3511        1    23     2   6            Alcalá la Real\n",
       "3512        1    23     3   2                 Alcaudete\n",
       "3513        1    23     4   7              Aldeaquemada\n",
       "3514        1    23     5   0                   Andújar\n",
       "...       ...   ...   ...  ..                       ...\n",
       "3602        1    23    97   0  Villanueva del Arzobispo\n",
       "3603        1    23    98   6            Villardompardo\n",
       "3604        1    23    99   9             Villares, Los\n",
       "3605        1    23   101   0             Villarrodrigo\n",
       "3606        1    23   903   3               Villatorres\n",
       "\n",
       "[97 rows x 5 columns]"
      ]
     },
     "execution_count": 23,
     "metadata": {},
     "output_type": "execute_result"
    }
   ],
   "source": [
    "dfEx[dfEx['CPRO']==23]"
   ]
  },
  {
   "cell_type": "code",
   "execution_count": 24,
   "metadata": {},
   "outputs": [
    {
     "name": "stdout",
     "output_type": "stream",
     "text": [
      "      CODAUTO  CPRO  CMUN  DC       NOMBRE\n",
      "4439       13    28   903   6  Tres Cantos\n"
     ]
    }
   ],
   "source": [
    "print(dfEx[dfEx['NOMBRE']=='Tres Cantos'])"
   ]
  },
  {
   "cell_type": "code",
   "execution_count": 25,
   "metadata": {},
   "outputs": [
    {
     "name": "stdout",
     "output_type": "stream",
     "text": [
      "Dimensiones:  (1, 5)\n",
      "28\n",
      "903\n"
     ]
    }
   ],
   "source": [
    "ciudadInfo = dfEx[dfEx['NOMBRE']=='Tres Cantos']\n",
    "print(\"Dimensiones: \",ciudadInfo.shape)\n",
    "print(ciudadInfo.iloc[0,1])\n",
    "print(ciudadInfo.iloc[0,2])"
   ]
  },
  {
   "attachments": {},
   "cell_type": "markdown",
   "metadata": {},
   "source": [
    "#### Características del Dataframe\n",
    "\n"
   ]
  },
  {
   "attachments": {},
   "cell_type": "markdown",
   "metadata": {},
   "source": [
    "- Información general (info())\n",
    "- Magnitudes estadísticas (describe())\n",
    "- Primeras i líneas (head(i))\n",
    "- Últimas i líneas (tail(i))\n",
    "- Dimensiones (ndim)\n",
    "- Elementos en cada dimensión (shape)"
   ]
  },
  {
   "cell_type": "code",
   "execution_count": 26,
   "metadata": {},
   "outputs": [
    {
     "name": "stdout",
     "output_type": "stream",
     "text": [
      "<class 'pandas.core.frame.DataFrame'>\n",
      "RangeIndex: 8131 entries, 0 to 8130\n",
      "Data columns (total 5 columns):\n",
      " #   Column   Non-Null Count  Dtype \n",
      "---  ------   --------------  ----- \n",
      " 0   CODAUTO  8131 non-null   int64 \n",
      " 1   CPRO     8131 non-null   int64 \n",
      " 2   CMUN     8131 non-null   int64 \n",
      " 3   DC       8131 non-null   int64 \n",
      " 4   NOMBRE   8131 non-null   object\n",
      "dtypes: int64(4), object(1)\n",
      "memory usage: 317.7+ KB\n"
     ]
    }
   ],
   "source": [
    "dfEx.info()"
   ]
  },
  {
   "cell_type": "code",
   "execution_count": 27,
   "metadata": {},
   "outputs": [
    {
     "data": {
      "text/html": [
       "<div>\n",
       "<style scoped>\n",
       "    .dataframe tbody tr th:only-of-type {\n",
       "        vertical-align: middle;\n",
       "    }\n",
       "\n",
       "    .dataframe tbody tr th {\n",
       "        vertical-align: top;\n",
       "    }\n",
       "\n",
       "    .dataframe thead th {\n",
       "        text-align: right;\n",
       "    }\n",
       "</style>\n",
       "<table border=\"1\" class=\"dataframe\">\n",
       "  <thead>\n",
       "    <tr style=\"text-align: right;\">\n",
       "      <th></th>\n",
       "      <th>CODAUTO</th>\n",
       "      <th>CPRO</th>\n",
       "      <th>CMUN</th>\n",
       "      <th>DC</th>\n",
       "    </tr>\n",
       "  </thead>\n",
       "  <tbody>\n",
       "    <tr>\n",
       "      <th>count</th>\n",
       "      <td>8131.000000</td>\n",
       "      <td>8131.000000</td>\n",
       "      <td>8131.000000</td>\n",
       "      <td>8131.000000</td>\n",
       "    </tr>\n",
       "    <tr>\n",
       "      <th>mean</th>\n",
       "      <td>7.736318</td>\n",
       "      <td>26.657115</td>\n",
       "      <td>131.071578</td>\n",
       "      <td>4.523429</td>\n",
       "    </tr>\n",
       "    <tr>\n",
       "      <th>std</th>\n",
       "      <td>4.030979</td>\n",
       "      <td>14.893232</td>\n",
       "      <td>145.940790</td>\n",
       "      <td>2.869749</td>\n",
       "    </tr>\n",
       "    <tr>\n",
       "      <th>min</th>\n",
       "      <td>1.000000</td>\n",
       "      <td>1.000000</td>\n",
       "      <td>1.000000</td>\n",
       "      <td>0.000000</td>\n",
       "    </tr>\n",
       "    <tr>\n",
       "      <th>25%</th>\n",
       "      <td>7.000000</td>\n",
       "      <td>13.000000</td>\n",
       "      <td>43.000000</td>\n",
       "      <td>2.000000</td>\n",
       "    </tr>\n",
       "    <tr>\n",
       "      <th>50%</th>\n",
       "      <td>7.000000</td>\n",
       "      <td>26.000000</td>\n",
       "      <td>95.000000</td>\n",
       "      <td>5.000000</td>\n",
       "    </tr>\n",
       "    <tr>\n",
       "      <th>75%</th>\n",
       "      <td>10.000000</td>\n",
       "      <td>41.000000</td>\n",
       "      <td>176.000000</td>\n",
       "      <td>7.000000</td>\n",
       "    </tr>\n",
       "    <tr>\n",
       "      <th>max</th>\n",
       "      <td>19.000000</td>\n",
       "      <td>52.000000</td>\n",
       "      <td>916.000000</td>\n",
       "      <td>9.000000</td>\n",
       "    </tr>\n",
       "  </tbody>\n",
       "</table>\n",
       "</div>"
      ],
      "text/plain": [
       "           CODAUTO         CPRO         CMUN           DC\n",
       "count  8131.000000  8131.000000  8131.000000  8131.000000\n",
       "mean      7.736318    26.657115   131.071578     4.523429\n",
       "std       4.030979    14.893232   145.940790     2.869749\n",
       "min       1.000000     1.000000     1.000000     0.000000\n",
       "25%       7.000000    13.000000    43.000000     2.000000\n",
       "50%       7.000000    26.000000    95.000000     5.000000\n",
       "75%      10.000000    41.000000   176.000000     7.000000\n",
       "max      19.000000    52.000000   916.000000     9.000000"
      ]
     },
     "execution_count": 27,
     "metadata": {},
     "output_type": "execute_result"
    }
   ],
   "source": [
    "dfEx.describe()"
   ]
  },
  {
   "attachments": {},
   "cell_type": "markdown",
   "metadata": {},
   "source": [
    "#### Representación gráfica del Dataframe\n",
    "\n",
    "Los dataframes directamente se pueden representar gráficamente"
   ]
  },
  {
   "cell_type": "code",
   "execution_count": 28,
   "metadata": {},
   "outputs": [
    {
     "name": "stderr",
     "output_type": "stream",
     "text": [
      "Matplotlib is building the font cache; this may take a moment.\n"
     ]
    },
    {
     "data": {
      "image/png": "[encoded data removed]",
      "text/plain": [
       "<Figure size 640x480 with 1 Axes>"
      ]
     },
     "metadata": {},
     "output_type": "display_data"
    }
   ],
   "source": [
    "dfPro = dfEx.loc[:,'CPRO']\n",
    "\n",
    "ax = dfPro.plot.hist(bins=25, stacked=True)\n",
    "ax.set_title('Localidades por provincia')\n",
    "ax.set_xlabel('Provincias')\n",
    "ax.set_ylabel('Localidades')\n",
    "fig = ax.figure\n"
   ]
  }
 ],
 "metadata": {
  "kernelspec": {
   "display_name": "Python 3",
   "language": "python",
   "name": "python3"
  },
  "language_info": {
   "codemirror_mode": {
    "name": "ipython",
    "version": 3
   },
   "file_extension": ".py",
   "mimetype": "text/x-python",
   "name": "python",
   "nbconvert_exporter": "python",
   "pygments_lexer": "ipython3",
   "version": "3.12.9"
  },
  "orig_nbformat": 4,
  "vscode": {
   "interpreter": {
    "hash": "11938c6bc6919ae2720b4d5011047913343b08a43b18698fd82dedb0d4417594"
   }
  }
 },
 "nbformat": 4,
 "nbformat_minor": 2
}
